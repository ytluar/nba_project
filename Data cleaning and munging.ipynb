{
 "cells": [
  {
   "cell_type": "markdown",
   "metadata": {},
   "source": [
    "# Data Munging"
   ]
  },
  {
   "cell_type": "code",
   "execution_count": null,
   "metadata": {},
   "outputs": [],
   "source": [
    "import pandas as pd\n",
    "import numpy as np"
   ]
  },
  {
   "cell_type": "code",
   "execution_count": null,
   "metadata": {},
   "outputs": [],
   "source": [
    "official_boxscore = pd.read_csv('./data/games.csv')\n",
    "official_boxscore.info()"
   ]
  },
  {
   "cell_type": "markdown",
   "metadata": {},
   "source": [
    "There is some null values in the data_frames, for the key stats like PTS, AST and REB. Besides that, this dataset does not record stats like STL, BLK, TO that will be needed.\n",
    "\n",
    "After some exploration, I realised there is no game details for the game of the null values in 'game_details.csv' also. Therefore, I decided to drop these rows."
   ]
  },
  {
   "cell_type": "code",
   "execution_count": null,
   "metadata": {},
   "outputs": [],
   "source": [
    "official_boxscore = official_boxscore.dropna(how='any')\n",
    "official_boxscore.info()"
   ]
  },
  {
   "cell_type": "markdown",
   "metadata": {},
   "source": [
    "Next, load another dataset 'game_details.csv' which contains stats of every player in every game."
   ]
  },
  {
   "cell_type": "code",
   "execution_count": null,
   "metadata": {},
   "outputs": [],
   "source": [
    "game_details = pd.read_csv('./data/games_details.csv')\n",
    "game_details.head()"
   ]
  },
  {
   "cell_type": "markdown",
   "metadata": {},
   "source": [
    "Defined a function to compute the sum of the stats for each team and add them to a new column for official_boxscore."
   ]
  },
  {
   "cell_type": "code",
   "execution_count": null,
   "metadata": {},
   "outputs": [],
   "source": [
    "def stats_sum(boxscore, details, stats, team):\n",
    "    game_id = boxscore['GAME_ID']\n",
    "    if(team=='home'):\n",
    "        team_id = boxscore['HOME_TEAM_ID']\n",
    "    else:\n",
    "        team_id = boxscore['VISITOR_TEAM_ID']\n",
    "    details_filtered = details[(details['GAME_ID'] == game_id) & (details['TEAM_ID'] == team_id)]\n",
    "    return np.sum(details_filtered[stats])\n",
    "    \n",
    "home_array = ['STL_home','BLK_home','FTM_home','TO_home']\n",
    "away_array = [i.replace('home','away') for i in home_array]\n",
    "\n",
    "official_boxscore[home_array] = official_boxscore.apply(stats_sum, args = (game_details, ['STL', 'BLK','FTM', 'TO'], 'home'),axis=1)\n",
    "official_boxscore[away_array] = official_boxscore.apply(stats_sum, args = (game_details, ['STL', 'BLK','FTM','TO'], 'away'),axis=1)\n",
    "display(official_boxscore.head())"
   ]
  },
  {
   "cell_type": "markdown",
   "metadata": {},
   "source": [
    "Successfully added the other key stats into the dataset.\n",
    "\n",
    "Output to csv."
   ]
  },
  {
   "cell_type": "code",
   "execution_count": null,
   "metadata": {},
   "outputs": [],
   "source": [
    "official_boxscore.to_csv('./output_data/detailed_boxscore')"
   ]
  }
 ],
 "metadata": {
  "kernelspec": {
   "display_name": "Python 3",
   "language": "python",
   "name": "python3"
  },
  "language_info": {
   "codemirror_mode": {
    "name": "ipython",
    "version": 3
   },
   "file_extension": ".py",
   "mimetype": "text/x-python",
   "name": "python",
   "nbconvert_exporter": "python",
   "pygments_lexer": "ipython3",
   "version": "3.8.2"
  }
 },
 "nbformat": 4,
 "nbformat_minor": 4
}
